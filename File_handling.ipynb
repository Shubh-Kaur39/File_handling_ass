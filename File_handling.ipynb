{
  "nbformat": 4,
  "nbformat_minor": 0,
  "metadata": {
    "colab": {
      "provenance": []
    },
    "kernelspec": {
      "name": "python3",
      "display_name": "Python 3"
    },
    "language_info": {
      "name": "python"
    }
  },
  "cells": [
    {
      "cell_type": "markdown",
      "source": [
        "# **FILE HANDLING**\n",
        "\n",
        "**Q.1 What is the difference between interpreted and compiled languages?**\n",
        "- Interpreted language converts high level language to machine language line by line but compiled languages convert a high level code to machine code at once. A program written in an interpreted language is iterpreted whereas the code of compiled languages can be executed directly by the CPU of the computer. Interpreted code can be modified while the program is running but is a bit slow. In contrast, compiled code runs faster then the interpreted code. Examples of interpreted languages are python, java, C# and examples of compiled languages are C, Fortran, and COBOL.\n",
        "\n",
        "\n",
        "**Q.2 What is exception handling in Python?**\n",
        "- Exception handling is process of responding to something that disrupts the normal event when the program runs. It is done to prevent system crashing as whenever we get error in program then the further code will not execute. so, we handle it using try except which ensures that exception is handled carefully.\n",
        "```\n",
        "try:\n",
        "  #suspicious code\n",
        "  f = open('file.txt','r')\n",
        "except Exception as e:\n",
        "  #executed when exception occurs in try block\n",
        "  print('Error in opening file')\n",
        "else:\n",
        "  #runs if there is no error in try block\n",
        "  f.close()\n",
        "```\n",
        "\n",
        "**Q.3 What is the purpose of the finally block in exception handling?**\n",
        "- Finally block gets executed regardless of whether an exception occured or not. It is used mainly for cleanup actions such as releasing resources, closing files, irrespective of the result of try and except blocks.\n",
        "```\n",
        "try:\n",
        "  #suspicious code\n",
        "  f = open('file.txt','r')\n",
        "except Exception as e:\n",
        "  #executed when exception occurs in try block\n",
        "  print('Error in opening file')\n",
        "else:\n",
        "  #runs if there is no error in try block\n",
        "  f.close()\n",
        "finally:\n",
        "  print('This will be executed always!!!')\n",
        "```\n",
        "\n",
        "**Q.4 What is logging in Python?**\n",
        "- Logging is a record of the state and flow of your program/ code/ software. It helps to track all the events that occur while the program is running. It is useful for understanding, monitoring, and debugging of your code. We can use logging to record information about errors, warnings and other events that occur during program execution.\n",
        "```\n",
        "import logging\n",
        "logging.basicConfig(filename='file.log',level=logging.INFO)\n",
        "logging.error('There was some error in the code')\n",
        "logging.warning('There is some warning which should be taken care of')\n",
        "```\n",
        "\n",
        "**Q.5 What is the significance of the __del__ method in Python?**\n",
        "- `__del__` method is referred to as a dunder/ special method and is called as destructor method. It is called when garbage collection occurs, which happens when all the references of an item have been destroyed. It is mainly used in cleanup purposes like closing a file and freeing up all the resources.\n",
        "```\n",
        "class MyClass:\n",
        "  def __init__(self):\n",
        "    print('object created successfully!')\n",
        "  def __del__(self):\n",
        "    print('object deleted successfully!')\n",
        "obj=MyClass()\n",
        "del obj\n",
        "```\n",
        "\n",
        "**Q.6 What is the difference between import and from ... import in Python?**\n",
        "- Both import and from ... import used to bring functionality from another modules into our code. Import is used to import whole module i.e. all of its functions, classes and methods gets imported in our file. However, from ... import is used when we have to import certain function or specific part into your code.\n",
        "```\n",
        "#using import\n",
        "import random\n",
        "print(random.randint(1,10))\n",
        "```\n",
        "```\n",
        "#using from ... import\n",
        "from random import randint\n",
        "print(random.randint(1,10))\n",
        "```\n",
        "\n",
        "**Q.7 How can you handle multiple exceptions in Python?**\n",
        "- Python has four different ways by which we can handle multiple exceptions:\n",
        "1. *Using multiple except block*:\n",
        "In this each exception gets its own block and we can handle different exceptions in a different way.\n",
        "```\n",
        "try:\n",
        "  10/\"0\"\n",
        "except ZeroDivisionError as e:\n",
        "  print(\"Number can't be divided by 0\")\n",
        "except TypeError as e:\n",
        "  print('The type of variable is not valid to divide')\n",
        "```\n",
        "2. *Using one block*:\n",
        "In this we catch multiple exceptions in a single except block by specifying them as a tuple. This is used when different exceptions require same handling logic.\n",
        "```\n",
        "try:\n",
        "  10/'0'\n",
        "except (ZeroDivisionError,TypeError) as e:\n",
        "  print('The division is not possible due to ',e)\n",
        "```\n",
        "\n",
        "3. *Using generic except block*:\n",
        "In this all types of error are handle in a same way.\n",
        "```\n",
        "try:\n",
        "  10/'0'\n",
        "except Exeption as e:\n",
        "  print('The division is not possible due to ',e)\n",
        "```\n",
        "\n",
        "4. *Combining specific and generic error*:\n",
        "Here, specific error are handled in different way and all other errors are handled in another way. We should keep in mind that specific error handling block should be before the generic exception handling.\n",
        "```\n",
        "try:\n",
        "  10/\"0\"\n",
        "except ZeroDivisionError as e:\n",
        "  print(\"Number can't be divided by 0\")\n",
        "except TypeError as e:\n",
        "  print('The type of variable is not valid to divide')\n",
        "except Exeption as e:\n",
        "  print('The division is not possible due to ',e)\n",
        "```\n",
        "\n",
        "**Q.8 What is the purpose of the with statement when handling files in Python?**\n",
        "- With statement in python file handling ensures that all the files are closed right after processing. So, the user don't have to worry about cleanup and the file gets closed automatically even if any type of error occured in the code. Along with this, this also make code clean and concise.\n",
        "```\n",
        "with open('file.txt','r') as f:\n",
        "  print(f.read())\n",
        "```\n",
        "\n",
        "**Q.9 What is the difference between multithreading and multiprocessing?**\n",
        "- Multiprocessing uses two or more cores/ processors to increase computing power, whereas multithreading uses a single process with multiple threads to increase computing power. In multiprocessing, two or more processes runs parallely but in mutithreading two or more threads runs concurrently due to GIL(Global Interpreter Lock). Since, there are multiple processors in multiprocessing, each process has its own memory space and resources which are isolated from other processes. In contrast, we know multithreading happens on single processor so, thread share same memory space and resources within the process. Multiprocessing is mainly used for tasks that are independent from each other while multithreading is used in tasks that are part of same application and need to share data/ resources.\n",
        "```\n",
        "#Multi-threading\n",
        "import threading\n",
        "import time\n",
        "def demo():\n",
        "  print('Start')\n",
        "  time.sleep(2)\n",
        "  print('End')\n",
        "t1 = threading.Thread(target=demo)\n",
        "t2 = threading.Thread(target=demo)\n",
        "t1.start()\n",
        "t2.start()\n",
        "t1.join()\n",
        "t2.join()\n",
        "```\n",
        "```\n",
        "#Multi-processing\n",
        "import multiprocessing\n",
        "import time\n",
        "def demo():\n",
        "  print('Start')\n",
        "  time.sleep(2)\n",
        "  print('End')\n",
        "t1 = multiprocessing.Process(target=demo)\n",
        "t2 = multiprocessing.Process(target=demo)\n",
        "t1.start()\n",
        "t2.start()\n",
        "t1.join()\n",
        "t2.join()\n",
        "```\n",
        "\n",
        "**Q.10 What are the advantages of using logging in a program?**\n",
        "- The advantages of logging are mentioned below:\n",
        "1. Logging make it easier to find and fix bugs even in production\n",
        "2. We write logs to files and not in terminal so we can check logs even after the code terminates.\n",
        "3. It can be used to save info on warning, errors and other events.\n",
        "4. Logs can analyze history and can provide insights, patterns and trends.\n",
        "5. Logs can also work well in multithreading programs.\n",
        "```\n",
        "import logging\n",
        "logging.basicConfig(filename='file.log',level=logging.INFO)\n",
        "logging.error('There was some error in the code')\n",
        "logging.warning('There is some warning which should be taken care of')\n",
        "```\n",
        "**Q.11 What is memory management in Python?**\n",
        "- Memory management in pyhton is a process of allocating, tracking and dealing memory so that your program runs efficiently. In python, memory management tasks are performed automatically. The following are methods by which memory management works in python:\n",
        "\n",
        "1. *Reference Counting*:\n",
        "It counts how many refernces point to an object. When the reference count reach zero, it is automatically removed.\n",
        "```\n",
        "a = [10,30,44,23]\n",
        "b = a # It increases refernce count\n",
        "del b #It decreases reference count\n",
        "del a #Reference count comes to zero\n",
        "```\n",
        "\n",
        "2. *Garbage Collection*:\n",
        "It is a process in which python detects the memory which system is not using and frees up that space to avoid any problems in deallocating memory. Python also has a cyclic garbage collector to clean circular references i.e. when two objects refer to each other.\n",
        "```\n",
        "import gc\n",
        "#To turn off garbage collector\n",
        "gc.disable()\n",
        "```\n",
        "\n",
        "3. *Iterators and Generators*:\n",
        "It allows users to iterate over a sequence like list, tuple, dictionary. They do not load the whole data at once but load one item at a time making it memory efficient. It is useful when working in large datasets, as it will save memory space.\n",
        "```\n",
        "#Iterator\n",
        "it=[1,2,3,4,5]\n",
        "it_obj=iter(it)\n",
        "for i in it_obj:\n",
        "  print(i)\n",
        "```\n",
        "```\n",
        "#Generator\n",
        "def demo():\n",
        "  for i in range(5):\n",
        "    yield i\n",
        "for i in demo():\n",
        "  print(i)\n",
        "```\n",
        "\n",
        "\n",
        "**Q.12 What are the basic steps involved in exception handling in Python?**\n",
        "- The basic steps involved in exception handling are explained below:\n",
        "1. *Use try block*:\n",
        "\n",
        "When we are unsure about the code then we write that code in try block. Try block ensures that code will only execute if their is no error or exception.\n",
        "\n",
        "2. *Use except block*:\n",
        "\n",
        "Whenever there is any error or exception occurs except block is executed. It is used to handle all the errors by the way which user wants.\n",
        "\n",
        "3. *Use else block*:\n",
        "\n",
        "Else block will run whenever try block gets executed successfully without any errors.\n",
        "\n",
        "4. *Use finally block*:\n",
        "\n",
        "Finally block is executed regardless of the execution of try or except block i.e. it will run even if there is error or not.\n",
        "```\n",
        "try:\n",
        "  #suspicious code\n",
        "  f = open('file.txt','r')\n",
        "except Exception as e:\n",
        "  #executed when exception occurs in try block\n",
        "  print('Error in opening file')\n",
        "else:\n",
        "  #runs if there is no error in try block\n",
        "  f.close()\n",
        "finally:\n",
        "  print('This will be executed always!!!')\n",
        "```\n",
        "\n",
        "**Q.13 Why is memory management important in Python?**\n",
        "- Memory management is important to prevent memory leaks and ensure that program runs smoothly. In other words, it avoid problems that can arise when we run out of memory. It also improves performance of the code by reusing memory efficiently. Moreover, it also avoid bugs ensuring clean and concise code.\n",
        "```\n",
        "# It automatically close file and resources saving memory\n",
        "with open('file.txt','r') as f:\n",
        "  print(f.read())\n",
        "```\n",
        "\n",
        "**Q.14 What is the role of try and except in exception handling?**\n",
        "- Try block contains a code that might raise an exception or error. So, it is used whenever we are unsure about the code. Try block only runs if their is no error whenever an error occurs the except block is executed. Hence, except block handles the execption in a way whatever user wants. Overall, we can say that try block executes when there is no error and except block executes when there is any kind of error.\n",
        "```\n",
        "try:\n",
        "  #suspicious code\n",
        "  f = open('file.txt','r')\n",
        "except Exception as e:\n",
        "  #executed when exception occurs in try block\n",
        "  print('Error in opening file')\n",
        "else:\n",
        "  #runs if there is no error in try block\n",
        "  f.close()\n",
        "finally:\n",
        "  print('This will be executed always!!!')\n",
        "```\n",
        "\n",
        "**Q.15 How does Python's garbage collection system work?**\n",
        "-\n",
        "Garbage collection is a process in which python detects the memory which system is not using and frees up that space to avoid any problems in deallocating memory. Python ensures reference counting\n",
        "that is it counts how many refernces point to an object. When the reference count reach zero, it is automatically removed. Python also has a cyclic garbage collector to clean circular references i.e. when two objects refer to each other.\n",
        "```\n",
        "#reference counting\n",
        "a = [10,30,44,23]\n",
        "b = a # It increases refernce count\n",
        "del b #It decreases reference count\n",
        "del a #Reference count comes to zero\n",
        "```\n",
        "```\n",
        "#Circular references\n",
        "a = [10, 20, 30, 40, 50, 60]\n",
        "a.append(a)\n",
        "del a\n",
        "# Garbage Collection ensures that all this circular references are deleted\n",
        "```\n",
        "\n",
        "**Q.16 What is the purpose of the else block in exception handling?**\n",
        "- Else block will run whenever try block executed successfully that is when there is no error in try block. It is used to put post success code in a seperate block. So, it become easy to debugg, concise and clean.\n",
        "```\n",
        "try:\n",
        "  #suspicious code\n",
        "  f = open('file.txt','r')\n",
        "except Exception as e:\n",
        "  #executed when exception occurs in try block\n",
        "  print('Error in opening file')\n",
        "else:\n",
        "  #runs if there is no error in try block\n",
        "  f.close()\n",
        "```\n",
        "\n",
        "**Q.17 What are the common logging levels in Python?**\n",
        "- The logging levels of the code are mentioned below from lowest to higher priority:\n",
        "\n",
        "1. DEBUG >>\n",
        "It is lowest level of logging and is used to give detailed information of any variable or function.\n",
        "\n",
        "2. INFO >>\n",
        "It is used to convey that the code is working as excepted or not.\n",
        "\n",
        "3. WARNING >>\n",
        "To indicate that there is possibility of some issue.\n",
        "\n",
        "4. ERROR >>\n",
        "There is serious problem due to which code gets terminated.\n",
        "\n",
        "5. CRITICAL >>\n",
        "It is highest level of logging. It indicates very serious problem that should be handled urgently.\n",
        "```\n",
        "import logging\n",
        "logging.basicConfig(filename='test.log',level=logging.WARNING)\n",
        "#These are below warning so won't be written in file\n",
        "logging.info('This is information about code')\n",
        "logging.debug('It gives detailed info of variable')\n",
        "#The below code will be written in file as they are above warning level\n",
        "logging.warning('This is warning related to code')\n",
        "logging.error('The code has an error')\n",
        "logging.critical('The code have very serious issue')\n",
        "```\n",
        "\n",
        "**Q.18 What is the difference between os.fork() and multiprocessing in Python?**\n",
        "- os.fork() is a low level system call available only on Linux/ Unix. It creates a copy of current process after which both run independenly having their own memory space. In contast, multiprocessing is a high-level python module used to run multiple process independently. It runs code parallely using multiple cores or processors which have their own memory space. It is easier to write, understand and debug than os.fork().\n",
        "```\n",
        "#Multi-processing\n",
        "import multiprocessing\n",
        "import time\n",
        "def demo():\n",
        "  print('Start')\n",
        "  time.sleep(2)\n",
        "  print('End')\n",
        "t1 = multiprocessing.Process(target=demo)\n",
        "t2 = multiprocessing.Process(target=demo)\n",
        "t1.start()\n",
        "t2.start()\n",
        "t1.join()\n",
        "t2.join()\n",
        "```\n",
        "```\n",
        "import os\n",
        "print(os.fork())\n",
        "```\n",
        "\n",
        "**Q.19 What is the importance of closing a file in Python?**\n",
        "- It is important to close the file to ensure proper resource management. Closing files free up all the resources and file descriptors which were present in memory while opening any file. As if all the files will remain opened the memory could leak and system will run out of memory. Additionally, if file is opened some system might lock it which will block access to other user or program.\n",
        "```\n",
        "file=open('file.txt','r')\n",
        "file.close()\n",
        "```\n",
        "\n",
        "**Q.20 What is the difference between file.read() and file.readline() in Python?**\n",
        "- file.read() reads the entire content of the file unless we provide them with size while file.readline() reads one line at a time. Hence, file.readline() is memory efficient than file.read().\n",
        "```\n",
        "f = open('file.txt','r')\n",
        "print(f.read())\n",
        "f.close()\n",
        "```\n",
        "```\n",
        "f = open('file.txt','r')\n",
        "for i in f:\n",
        "  print(file.readline())\n",
        "f.close()\n",
        "```\n",
        "\n",
        "**Q.21 What is the logging module in Python used for?**\n",
        "- Logging module is a python module used to track events while the program is running. Logging is a record of the state and flow of your program/ code/ software. It helps to track all the events that occur while the program is running. It is useful for understanding, monitoring, and debugging of your code. We can use logging to record information about errors, warnings and other events that occur during program execution.\n",
        "```\n",
        "import logging\n",
        "logging.basicConfig(filename='file.log',level=logging.INFO)\n",
        "logging.error('There was some error in the code')\n",
        "logging.warning('There is some warning which should be taken care of')\n",
        "```\n",
        "\n",
        "**Q.22 What is the os module in Python used for in file handling?**\n",
        "- os module is a built-in python module by which we can interact with os. We can work with files, folders, paths and os environment by importing os module. Some commands in os modules are listed below:\n",
        "1. `os.getcwd()` -> to get current working directory\n",
        "2. `os.path.getsize('file.txt')` -> To get size of the file\n",
        "3. `os.mkdir('test')` -> to make directory\n",
        "4. `os.mkdirs('test/test1')` -> to make folder heirarchy\n",
        "5. `os.listdr()` -> to get list of all files and folders\n",
        "6. `os.rmdir()` -> to delete a directory\n",
        "7. `os.rename(src, dst)` -> to rename the directory\n",
        "8. `os.chdir(path)` -> to change the directory\n",
        "9. `os.remove(filename)` -> to remove a file\n",
        "\n",
        "**Q.23 What are the challenges associated with memory management in Python?**\n",
        "-\n",
        "1. Program runtimes are slower as sometimes the program holds freed memory in the interpreter rather than freeing up for os.\n",
        "2. Python keeps objects in the memory until all the references are gone so it is difficult to handle in large datasets.\n",
        "3. Python takes more time to deallocate memory especially in circular references.\n",
        "4. Due to GIL memory efficieny is reduced as it prevents from actual multi-threading.\n",
        "\n",
        "**Q.24 How do you raise an exception manually in Python?**\n",
        "- In python, we can use `raise` keyword to raise an exception manually.\n",
        "We can define an error to raise and text to print whenever that error occur.\n",
        "\n",
        "```\n",
        "salary=-10000\n",
        "if salary<0:\n",
        "  raise Exception('Salary can't be negative!!!')\n",
        "```\n",
        "\n",
        "**Q.25 Why is it important to use multithreading in certain applications??**\n",
        "- Multithreading is a way to run the code concurrently in multiple threads but with one core or processor within the same process. It is important in tasks that are part of same application and need to share data/resources. Example: in input/output process like downloading the file, reading/writing in a file. It can also be used in GUI apps like games because it make applications responsive by running background tasks with the main tasks.\n",
        "```\n",
        "#Multi-threading\n",
        "import threading\n",
        "import time\n",
        "def demo():\n",
        "  print('Start')\n",
        "  time.sleep(2)\n",
        "  print('End')\n",
        "t1 = threading.Thread(target=demo)\n",
        "t2 = threading.Thread(target=demo)\n",
        "t1.start()\n",
        "t2.start()\n",
        "t1.join()\n",
        "t2.join()\n",
        "```\n",
        "# **Practical Questions**"
      ],
      "metadata": {
        "id": "CXgHqXnBH2Po"
      }
    },
    {
      "cell_type": "code",
      "source": [
        "#1. How can you open a file for writing in Python and write a string to it\n",
        "file = open('file.txt','w')\n",
        "file.write('I am writing something in this file\\n')\n",
        "file.write('This is second line\\n')\n",
        "file.write('This is third line\\n')\n",
        "file.close()"
      ],
      "metadata": {
        "id": "LQw6Ot5fbvL9"
      },
      "execution_count": 1,
      "outputs": []
    },
    {
      "cell_type": "code",
      "source": [
        "#2. Write a Python program to read the contents of a file and print each line\n",
        "file = open('file.txt','r')\n",
        "# To put pointer at start of file\n",
        "file.seek(0)\n",
        "line = file.readline()\n",
        "while line:\n",
        "  # so, print don't add extra line we use strip()\n",
        "  print(line.strip())\n",
        "  line = file.readline()\n",
        "file.close()"
      ],
      "metadata": {
        "colab": {
          "base_uri": "https://localhost:8080/"
        },
        "id": "UTDAqEUucMSS",
        "outputId": "e5bfc092-918d-4fa1-b31a-abd946196abe"
      },
      "execution_count": 2,
      "outputs": [
        {
          "output_type": "stream",
          "name": "stdout",
          "text": [
            "I am writing something in this file\n",
            "This is second line\n",
            "This is third line\n"
          ]
        }
      ]
    },
    {
      "cell_type": "code",
      "source": [
        "#3. How would you handle a case where the file doesn't exist while trying to open it for reading\n",
        "try:\n",
        "  file = open('file1.txt','r')\n",
        "except FileNotFoundError as e:\n",
        "  print('No such file is present')\n",
        "except Exception as e:\n",
        "  print('Some unknown error occured')\n",
        "else:\n",
        "  file.close()"
      ],
      "metadata": {
        "colab": {
          "base_uri": "https://localhost:8080/"
        },
        "id": "IuieYlfAdsfg",
        "outputId": "7bd3b806-659d-4128-d196-652f1b9738e6"
      },
      "execution_count": 3,
      "outputs": [
        {
          "output_type": "stream",
          "name": "stdout",
          "text": [
            "No such file is present\n"
          ]
        }
      ]
    },
    {
      "cell_type": "code",
      "source": [
        "#4. Write a Python script that reads from one file and writes its content to another file\n",
        "file1 = open('file.txt','r')\n",
        "file2 = open('file2.txt','w')\n",
        "file1.seek(0)\n",
        "data = file1.read()\n",
        "file2.write(data)\n",
        "print(f'Data is successfully written to file2 from file')\n",
        "file1.close()\n",
        "file2.close()"
      ],
      "metadata": {
        "colab": {
          "base_uri": "https://localhost:8080/"
        },
        "id": "hyWFg1oCee7y",
        "outputId": "e6cc37fb-6692-4e1d-a841-1152b68c2cd5"
      },
      "execution_count": 4,
      "outputs": [
        {
          "output_type": "stream",
          "name": "stdout",
          "text": [
            "Data is successfully written to file2 from file\n"
          ]
        }
      ]
    },
    {
      "cell_type": "code",
      "source": [
        "#5. How would you catch and handle division by zero error in Python\n",
        "try:\n",
        "  n1 = int(input('Enter numenator'))\n",
        "  n2 = int(input('Enter denominator'))\n",
        "  n1/n2\n",
        "except ZeroDivisionError as e:\n",
        "  print('Division by 0 is not possible')\n",
        "except Exception as e:\n",
        "  print('There is some other issue in code')"
      ],
      "metadata": {
        "colab": {
          "base_uri": "https://localhost:8080/"
        },
        "id": "PsEgmsc4flOo",
        "outputId": "98648a0b-726d-4ca8-b448-36fe83554a0d"
      },
      "execution_count": 5,
      "outputs": [
        {
          "output_type": "stream",
          "name": "stdout",
          "text": [
            "Enter numenator100\n",
            "Enter denominator0\n",
            "Division by 0 is not possible\n"
          ]
        }
      ]
    },
    {
      "cell_type": "code",
      "source": [
        "#6. Write a Python program that logs an error message to a log file when a division by zero exception occurs\n",
        "import logging\n",
        "logging.basicConfig(filename='program.log',level=logging.DEBUG)\n",
        "try:\n",
        "  n1 = int(input('Enter numenator'))\n",
        "  n2 = int(input('Enter denominator'))\n",
        "  n1/n2\n",
        "except ZeroDivisionError as e:\n",
        "  logging.error('Division by 0 is not possible')\n",
        "except Exception as e:\n",
        "  logging.error('There is some other issue in code')"
      ],
      "metadata": {
        "colab": {
          "base_uri": "https://localhost:8080/"
        },
        "id": "5geNY0VjhRBC",
        "outputId": "e0b3d3c4-0669-440a-bd19-70f827fce3a3"
      },
      "execution_count": 6,
      "outputs": [
        {
          "name": "stdout",
          "output_type": "stream",
          "text": [
            "Enter numenator100\n",
            "Enter denominator0\n"
          ]
        },
        {
          "output_type": "stream",
          "name": "stderr",
          "text": [
            "ERROR:root:Division by 0 is not possible\n"
          ]
        }
      ]
    },
    {
      "cell_type": "code",
      "source": [
        "#7. How do you log information at different levels (INFO, ERROR, WARNING) in Python using the logging module\n",
        "import logging\n",
        "#We can set the level of logging here we did is debug which is lowest\n",
        "logging.basicConfig(filename='program1.log',level=logging.DEBUG)\n",
        "logging.info('This is information about code')\n",
        "logging.debug('It gives detailed info of variable')\n",
        "logging.warning('This is warning related to code')\n",
        "logging.error('The code has an error')\n",
        "logging.critical('The code have very serious issue')"
      ],
      "metadata": {
        "colab": {
          "base_uri": "https://localhost:8080/"
        },
        "id": "wLZCnmWviCOx",
        "outputId": "c38c8e0a-8bad-43fa-f611-e32abcbb6696"
      },
      "execution_count": 63,
      "outputs": [
        {
          "output_type": "stream",
          "name": "stderr",
          "text": [
            "WARNING:root:This is warning related to code\n",
            "ERROR:root:The code has an error\n",
            "CRITICAL:root:The code have very serious issue\n"
          ]
        }
      ]
    },
    {
      "cell_type": "code",
      "source": [
        "#8.Write a program to handle a file opening error using exception handling\n",
        "try:\n",
        "  f = open('file1.txt','r')\n",
        "  print(f.read())\n",
        "except FileNotFoundError as e:\n",
        "  print('No such file is present')\n",
        "except Exception as e:\n",
        "  print('Some unknown error occured')\n",
        "else:\n",
        "  file.close()"
      ],
      "metadata": {
        "colab": {
          "base_uri": "https://localhost:8080/"
        },
        "id": "Ru2z-OawmIKq",
        "outputId": "9a3d3623-30bd-4b50-9b8c-df584fff1f7e"
      },
      "execution_count": 11,
      "outputs": [
        {
          "output_type": "stream",
          "name": "stdout",
          "text": [
            "No such file is present\n"
          ]
        }
      ]
    },
    {
      "cell_type": "code",
      "source": [
        "#9. How can you read a file line by line and store its content in a list in Python\n",
        "file = open('file.txt','r')\n",
        "lis=file.readlines()\n",
        "print(lis)\n",
        "file.close()"
      ],
      "metadata": {
        "colab": {
          "base_uri": "https://localhost:8080/"
        },
        "id": "eOzi5oMina5y",
        "outputId": "888d1ece-5e08-4035-f3b2-d9b5f0f38f1b"
      },
      "execution_count": 14,
      "outputs": [
        {
          "output_type": "stream",
          "name": "stdout",
          "text": [
            "['I am writing something in this file\\n', 'This is second line\\n', 'This is third line\\n']\n"
          ]
        }
      ]
    },
    {
      "cell_type": "code",
      "source": [
        "#10. How can you append data to an existing file in Python\n",
        "#it can be done by opening file in append mode instead of write mode\n",
        "with open('file.txt','a') as f:\n",
        "  f.write('This is fourth line')"
      ],
      "metadata": {
        "id": "_wjKJQQenrO9"
      },
      "execution_count": 15,
      "outputs": []
    },
    {
      "cell_type": "code",
      "source": [
        "#11.Write a Python program that uses a try-except block to handle an error when attempting to access a dictionary key that doesn't exist\n",
        "dict={\n",
        "    'name':'Shubh',\n",
        "    'age':21,\n",
        "    'course':'Data Science',\n",
        "    'hair':'straight'\n",
        "}\n",
        "try:\n",
        "  dict['salary']+=10\n",
        "except KeyError as e:\n",
        "  print(\"The mentioned key don't exist\")\n",
        "except Exception as e:\n",
        "  print('error occured')"
      ],
      "metadata": {
        "colab": {
          "base_uri": "https://localhost:8080/"
        },
        "id": "CUCuBHkqoVTD",
        "outputId": "bf71512f-6113-4944-dab4-2b7e76e8e76d"
      },
      "execution_count": 17,
      "outputs": [
        {
          "output_type": "stream",
          "name": "stdout",
          "text": [
            "The mentioned key don't exist\n"
          ]
        }
      ]
    },
    {
      "cell_type": "code",
      "source": [
        "#12. Write a program that demonstrates using multiple except blocks to handle different types of exceptions\n",
        "try:\n",
        "  n1 = int(input('Enter numenator'))\n",
        "  n2 = int(input('Enter denominator'))\n",
        "  result = n1/n2\n",
        "  print(result)\n",
        "except ZeroDivisionError as e:\n",
        "  print('Division by 0 is not possible')\n",
        "except ValueError as e:\n",
        "  print('Numbers should be integers')\n",
        "except NameError as e:\n",
        "  print('Variable name is misspelled')\n",
        "except Exception as e:\n",
        "  print('There is some other issue in code')"
      ],
      "metadata": {
        "colab": {
          "base_uri": "https://localhost:8080/"
        },
        "id": "R3DR2hVxpA4f",
        "outputId": "60795a8c-c902-4393-a16c-ca6bb474537d"
      },
      "execution_count": 24,
      "outputs": [
        {
          "output_type": "stream",
          "name": "stdout",
          "text": [
            "Enter numenator10\n",
            "Enter denominatoroo\n",
            "Numbers should be integers\n"
          ]
        }
      ]
    },
    {
      "cell_type": "code",
      "source": [
        "#13. How would you check if a file exists before attempting to read it in Python\n",
        "import os\n",
        "if os.path.exists('file1.txt'):\n",
        "  with open('file.txt','r') as file:\n",
        "    print('file opened succesfully')\n",
        "else:\n",
        "  print('No such file exists')"
      ],
      "metadata": {
        "colab": {
          "base_uri": "https://localhost:8080/"
        },
        "id": "9Catmpj4pzbh",
        "outputId": "6399cc8e-a8bc-4358-a717-5a9e5b481686"
      },
      "execution_count": 71,
      "outputs": [
        {
          "output_type": "stream",
          "name": "stdout",
          "text": [
            "No such file exists\n"
          ]
        }
      ]
    },
    {
      "cell_type": "code",
      "source": [
        "#14. Write a program that uses the logging module to log both informational and error messages\n",
        "import logging\n",
        "logging.basicConfig(filename='test.log',level=logging.DEBUG)\n",
        "try:\n",
        "  n1 = int(input('Enter numenator'))\n",
        "  n2 = int(input('Enter denominator'))\n",
        "  n1/n2\n",
        "except ZeroDivisionError as e:\n",
        "  logging.error('Division by 0 is not possible...')\n",
        "except Exception as e:\n",
        "  logging.error('There is some other issue in code...')\n",
        "else:\n",
        "  logging.info('Division was successfull...')"
      ],
      "metadata": {
        "colab": {
          "base_uri": "https://localhost:8080/"
        },
        "id": "o7ruZ9HqtiYv",
        "outputId": "dc565256-93ec-407e-e0a8-677812f64aa0"
      },
      "execution_count": 29,
      "outputs": [
        {
          "name": "stdout",
          "output_type": "stream",
          "text": [
            "Enter numenator23\n",
            "Enter denominator4\n"
          ]
        }
      ]
    },
    {
      "cell_type": "code",
      "source": [
        "#15. Write a Python program that prints the content of a file and handles the case when the file is empty\n",
        "file = open('demo.txt','w')\n",
        "file.close()\n",
        "file = open('demo.txt','r')\n",
        "# To put pointer at start of file\n",
        "try:\n",
        "  file.seek(0)\n",
        "  data=file.read()\n",
        "  if data == '':\n",
        "    raise Exception('No content')\n",
        "  else:\n",
        "    print(data)\n",
        "except Exception as e:\n",
        "  print('Error',e)\n",
        "file.close()"
      ],
      "metadata": {
        "colab": {
          "base_uri": "https://localhost:8080/"
        },
        "id": "Ob3IR-PEuKKf",
        "outputId": "eb344c48-d7d3-4019-8c6f-5002bee75d7a"
      },
      "execution_count": 31,
      "outputs": [
        {
          "output_type": "stream",
          "name": "stdout",
          "text": [
            "Error No content\n"
          ]
        }
      ]
    },
    {
      "cell_type": "code",
      "source": [
        "#16. Demonstrate how to use memory profiling to check the memory usage of a small program\n",
        "!pip install -q memory-profiler\n",
        "%load_ext memory_profiler\n",
        "\n",
        "from memory_profiler import profile, memory_usage\n",
        "@profile\n",
        "def demo():\n",
        "    try:\n",
        "        n1 = int(input('Enter numenator'))\n",
        "        n2 = int(input('Enter denominator'))\n",
        "        result = n1/n2\n",
        "        print(result)\n",
        "    except ZeroDivisionError as e:\n",
        "        print('Division by 0 is not possible')\n",
        "    except ValueError as e:\n",
        "        print('Numbers should be integers')\n",
        "    except NameError as e:\n",
        "        print('Variable name is misspelled')\n",
        "    except Exception as e:\n",
        "        print('There is some other issue in code')\n",
        "\n",
        "if __name__ == \"__main__\":\n",
        "    print('Max memory use: ',max(memory_usage(demo)))"
      ],
      "metadata": {
        "colab": {
          "base_uri": "https://localhost:8080/"
        },
        "id": "cSf5PsGNvOyr",
        "outputId": "8194ce57-79be-4dfd-a2d1-4ebb458ff693"
      },
      "execution_count": 40,
      "outputs": [
        {
          "output_type": "stream",
          "name": "stdout",
          "text": [
            "The memory_profiler extension is already loaded. To reload it, use:\n",
            "  %reload_ext memory_profiler\n",
            "ERROR: Could not find file <ipython-input-40-77f94ccc60ad>\n",
            "NOTE: %mprun can only be used on functions defined in physical files, and not in the IPython environment.\n",
            "Enter numenator100\n",
            "Enter denominator2\n",
            "50.0\n",
            "Max memory use:  286.59765625\n"
          ]
        }
      ]
    },
    {
      "cell_type": "code",
      "source": [
        "#17. Write a Python program to create and write a list of numbers to a file, one number per line\n",
        "list_obj=[19,29,39,44,12,90,22,44]\n",
        "file=open('file2.txt','w')\n",
        "for i in list_obj:\n",
        "  file.write(str(i))\n",
        "  file.write('\\n')\n",
        "file.close()"
      ],
      "metadata": {
        "id": "4p3QdtfsxsSw"
      },
      "execution_count": 44,
      "outputs": []
    },
    {
      "cell_type": "code",
      "source": [
        "#18. How would you implement a basic logging setup that logs to a file with rotation after 1MB\n",
        "import logging\n",
        "from logging.handlers import RotatingFileHandler\n",
        "handler = RotatingFileHandler(filename='app.log',mode='w',maxBytes=1_000_000,)\n",
        "logging.basicConfig(level=logging.INFO,format='%(asctime)s - %(message)s',handlers=[handler])\n",
        "for i in range(100):\n",
        "    logging.info(f\"Message number {i}\")"
      ],
      "metadata": {
        "id": "rJEv611MzkIx"
      },
      "execution_count": 61,
      "outputs": []
    },
    {
      "cell_type": "code",
      "source": [
        "#19. Write a program that handles both IndexError and KeyError using a try-except block\n",
        "list_obj=[10,30,50,60,80]\n",
        "dict_obj={\n",
        "    'name':'Shubh',\n",
        "    'age':21,\n",
        "    'course':'Data Science',\n",
        "    'hair':'straight'\n",
        "}\n",
        "try:\n",
        "  list_obj[10]+=20\n",
        "  dict['salary']+=10\n",
        "except (IndexError,KeyError) as e:\n",
        "  print(\"The mentioned key/index don't exist\")\n",
        "except Exception as e:\n",
        "  print('some unknown error occured')"
      ],
      "metadata": {
        "colab": {
          "base_uri": "https://localhost:8080/"
        },
        "id": "j9SAwemY4nR2",
        "outputId": "ad95bf8f-4737-4555-f422-5ee1941d5f8e"
      },
      "execution_count": 67,
      "outputs": [
        {
          "output_type": "stream",
          "name": "stdout",
          "text": [
            "The mentioned key/index don't exist\n"
          ]
        }
      ]
    },
    {
      "cell_type": "code",
      "source": [
        "#20.How would you open a file and read its contents using a context manager in Python\n",
        "with open('file.txt','r') as f:\n",
        "  print(f.read())"
      ],
      "metadata": {
        "colab": {
          "base_uri": "https://localhost:8080/"
        },
        "id": "sC7-DHS16U0b",
        "outputId": "f77d9792-80a8-4aef-fe1f-a81817b93f1c"
      },
      "execution_count": 65,
      "outputs": [
        {
          "output_type": "stream",
          "name": "stdout",
          "text": [
            "I am writing something in this file\n",
            "This is second line\n",
            "This is third line\n",
            "This is fourth line\n"
          ]
        }
      ]
    },
    {
      "cell_type": "code",
      "source": [
        "#21. Write a Python program that reads a file and prints the number of occurrences of a specific word\n",
        "file = open('file.txt','r')\n",
        "count=0\n",
        "for i in file:\n",
        "  words_lis=i.split()\n",
        "  for word in words_lis:\n",
        "    if word=='This':\n",
        "      count+=1\n",
        "print(f'\"This\" occured {count} times')"
      ],
      "metadata": {
        "colab": {
          "base_uri": "https://localhost:8080/"
        },
        "id": "0mQrTCTh6gUD",
        "outputId": "0629bca8-b580-46ba-9e02-d42d898e9a48"
      },
      "execution_count": 70,
      "outputs": [
        {
          "output_type": "stream",
          "name": "stdout",
          "text": [
            "\"This\" occured 3 times\n"
          ]
        }
      ]
    },
    {
      "cell_type": "code",
      "source": [
        "#22. How can you check if a file is empty before attempting to read its contents\n",
        "import os\n",
        "if os.path.getsize('demo.txt')==0:\n",
        "  print('File is empty!!')\n",
        "else:\n",
        "  with open('file.txt','r') as file:\n",
        "    print(file.read())"
      ],
      "metadata": {
        "colab": {
          "base_uri": "https://localhost:8080/"
        },
        "id": "ZHgi7YP5_ytZ",
        "outputId": "7f76a79c-3fb5-4730-d816-a023ae247603"
      },
      "execution_count": 73,
      "outputs": [
        {
          "output_type": "stream",
          "name": "stdout",
          "text": [
            "File is empty!!\n"
          ]
        }
      ]
    },
    {
      "cell_type": "code",
      "source": [
        "#23. Write a Python program that writes to a log file when an error occurs during file handling\n",
        "import logging\n",
        "logging.basicConfig(filename='app1.log',level=logging.INFO)\n",
        "try:\n",
        "  f = open('file1.txt','r')\n",
        "  print(f.read())\n",
        "except FileNotFoundError as e:\n",
        "  logging.error('No such file is present')\n",
        "except Exception as e:\n",
        "  logging.error('Some unknown error occured')\n",
        "else:\n",
        "  file.close()"
      ],
      "metadata": {
        "colab": {
          "base_uri": "https://localhost:8080/"
        },
        "id": "0UQJNWJ8BjZl",
        "outputId": "f1ca0cc0-302c-400f-c375-4890951129ee"
      },
      "execution_count": 82,
      "outputs": [
        {
          "output_type": "stream",
          "name": "stderr",
          "text": [
            "ERROR:root:No such file is present\n"
          ]
        }
      ]
    },
    {
      "cell_type": "code",
      "source": [],
      "metadata": {
        "id": "IP-gusDXCP2X"
      },
      "execution_count": null,
      "outputs": []
    }
  ]
}